{
 "cells": [
  {
   "cell_type": "code",
   "execution_count": 10,
   "id": "037ae560-da46-4cd8-be57-2fe1c7460291",
   "metadata": {},
   "outputs": [
    {
     "data": {
      "text/plain": [
       "{'window_type': 'consecutive',\n",
       " 'window_size': 7,\n",
       " 'prompts': ['test_1', 'test_2'],\n",
       " 'image_header': 'image',\n",
       " 'plans': Dataset({\n",
       "     features: ['image', 'page_number', 'page_id'],\n",
       "     num_rows: 27\n",
       " })}"
      ]
     },
     "execution_count": 10,
     "metadata": {},
     "output_type": "execute_result"
    }
   ],
   "source": [
    "from generate.configs import GenerationConfig\n",
    "\n",
    "generation_cfg = GenerationConfig(\n",
    "    prompts=[\"test_1\",\"test_2\"],\n",
    "    plans=civil_plans,\n",
    "    image_header=\"image\",\n",
    "    window_size=7\n",
    ")\n",
    "generation_cfg.__dict__"
   ]
  },
  {
   "cell_type": "code",
   "execution_count": 11,
   "id": "ab7f7d48-9b37-4c54-bdad-224864476b28",
   "metadata": {},
   "outputs": [],
   "source": [
    "batched_image_samples=generation_cfg._setup_images()"
   ]
  },
  {
   "cell_type": "code",
   "execution_count": 20,
   "id": "61d7efee-b86d-4d59-a366-7347898f34e8",
   "metadata": {},
   "outputs": [
    {
     "name": "stdout",
     "output_type": "stream",
     "text": [
      "You're a helpful assistant in the construction industry. \n",
      "Given a list of features and the page they were extracted from convert them to scopes of work. Here's an example of your task:\n",
      "    Given features from imaginary page 'MnCFwsoI6P':\n",
      "        Given Features:\n",
      "            ```python\n",
      "            [\n",
      "                \"ASPHALT SHINGLE ROOF GAF - TIMBERLINE HOZ - COLOR BARKWOOD\",\n",
      "                \"ROOF ACCESS HATCH\",\n",
      "                \"ROOF DRAIN AND OVERFLOW SEE DETAIL 5/A-105\",\n",
      "                \"1|6BS\",\n",
      "                \"1X6 CEDAR BOARD FENCE PAINT - NAVAJO BEIGE (MATCH BUILDING)\",\n",
      "                \"R-30 CLOSED CELL INSULATION TYPICAL ALL SLOPED ROOFS\"\n",
      "                \"EXISTING INTERIOR WALLS TO BE DEMO\",\n",
      "            ]\n",
      "            ```\n",
      "        Current Scopes:\n",
      "            ```python\n",
      "            [\n",
      "                (\"Provide and install asphalt shingle roof gaf - timberline hoz - color barkwood.\", [\"MnCFwsoI6P\"] ),\n",
      "                (\"Provide and install roof access hatch.\", [\"MnCFwsoI6P\"]),\n",
      "                (\"Provide and install roof drain and overflow see detail 5/a-105.\", [\"MnCFwsoI6P\"]),\n",
      "                (\"Provide and install 1|6BS walls.\", [\"MnCFwsoI6P\"]),\n",
      "                (\"Provide and install 1x6 cedar board fence\", [\"MnCFwsoI6P\"]),\n",
      "                (\"Provide and apply navajo beige paint to cedar board fence, [\"MnCFwsoI6P\"]),\n",
      "                (\"Provide and install R-30 closed cell insulation typical all sloped roofs.\" [\"MnCFwsoI6P\"]),\n",
      "                (\"Existing interior walls to be demo.\" [\"MnCFwsoI6P\"]),\n",
      "            ]\n",
      "            ```\n",
      "Notes:\n",
      "    1. DO NOT ADD phrases similar to \"as indicated on the plan\" to scopes.\n",
      "    2. DO NOT ADD any scopes with \"ESMT\", \"EASEMENT\", \"easement\" in them.\n",
      "    3. DO NOT ADD any scopes with \"LOT\" in them.\n",
      "\n",
      "\n",
      "\n",
      "Using page '{page_id}', and these features '{additional_features_list}' convert the relevant features to scopes of work.\n"
     ]
    }
   ],
   "source": [
    "print(\n",
    "    convert_to_scope_system_prompt\n",
    ")\n",
    "\n",
    "print(\"\\n\")\n",
    "\n",
    "print(\n",
    "    convert_to_scope_feature_prompt\n",
    ")"
   ]
  },
  {
   "cell_type": "code",
   "execution_count": null,
   "id": "9e128627-7ccc-4fe8-af58-c236627af2f2",
   "metadata": {},
   "outputs": [],
   "source": []
  }
 ],
 "metadata": {
  "kernelspec": {
   "display_name": "Python 3 (ipykernel)",
   "language": "python",
   "name": "python3"
  },
  "language_info": {
   "codemirror_mode": {
    "name": "ipython",
    "version": 3
   },
   "file_extension": ".py",
   "mimetype": "text/x-python",
   "name": "python",
   "nbconvert_exporter": "python",
   "pygments_lexer": "ipython3",
   "version": "3.10.12"
  }
 },
 "nbformat": 4,
 "nbformat_minor": 5
}
