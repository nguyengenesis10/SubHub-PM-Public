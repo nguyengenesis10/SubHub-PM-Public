{
 "cells": [
  {
   "cell_type": "code",
   "execution_count": 31,
   "id": "aec711c3-0572-4bda-b724-5cf21426d2d3",
   "metadata": {},
   "outputs": [],
   "source": [
    "\n",
    "\n",
    "client = OpenAI(api_key=\"[REMOVED_SECRET]\")\n",
    "\n",
    "\n",
    "response = client.beta.chat.completions.parse(\n",
    "    model=\"gpt-4o-2024-11-20\",\n",
    "    messages=[\n",
    "        {\n",
    "            \"role\": \"user\",\n",
    "            \"content\": [\n",
    "                {\"type\": \"text\",\"text\": \"What is in this image?\",},\n",
    "                {\"type\": \"image_url\",\"image_url\": {\"url\":  f\"data:image/jpeg;base64,{based64_str}\"},},\n",
    "          ],\n",
    "        }\n",
    "    ],\n",
    "    response_format=Response,\n",
    ")"
   ]
  },
  {
   "cell_type": "code",
   "execution_count": 32,
   "id": "4040aa32-7c09-443a-ba41-179b7b0941d2",
   "metadata": {},
   "outputs": [
    {
     "data": {
      "text/plain": [
       "'The image appears to be a construction project document for a daycare facility in Thornton, Colorado, providing location details and an overview of intended works.'"
      ]
     },
     "execution_count": 32,
     "metadata": {},
     "output_type": "execute_result"
    }
   ],
   "source": [
    "Response(\n",
    "    **ast.literal_eval(response.choices[0].message.content)\n",
    ").resp"
   ]
  },
  {
   "cell_type": "code",
   "execution_count": null,
   "id": "012ee282-f780-430e-9359-09015e1fcffd",
   "metadata": {},
   "outputs": [],
   "source": []
  }
 ],
 "metadata": {
  "kernelspec": {
   "display_name": "Python 3 (ipykernel)",
   "language": "python",
   "name": "python3"
  },
  "language_info": {
   "codemirror_mode": {
    "name": "ipython",
    "version": 3
   },
   "file_extension": ".py",
   "mimetype": "text/x-python",
   "name": "python",
   "nbconvert_exporter": "python",
   "pygments_lexer": "ipython3",
   "version": "3.10.12"
  }
 },
 "nbformat": 4,
 "nbformat_minor": 5
}
