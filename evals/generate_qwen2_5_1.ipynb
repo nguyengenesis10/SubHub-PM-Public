{
 "cells": [
  {
   "cell_type": "markdown",
   "id": "27e5a5c1-b29b-4499-b160-508d14bccea9",
   "metadata": {},
   "source": [
    "# Setup Autoreload"
   ]
  },
  {
   "cell_type": "code",
   "execution_count": 1,
   "id": "f0fa6c23-13bb-4d7d-adfd-d7a88087b579",
   "metadata": {},
   "outputs": [],
   "source": [
    "%load_ext autoreload\n",
    "%autoreload 2"
   ]
  },
  {
   "cell_type": "markdown",
   "id": "83e204e5-6560-4bcb-a0d1-207d6c54824d",
   "metadata": {},
   "source": [
    "# Load Plans"
   ]
  },
  {
   "cell_type": "code",
   "execution_count": 2,
   "id": "677381cc-b681-48ff-b141-4a8863e6619c",
   "metadata": {},
   "outputs": [
    {
     "data": {
      "application/vnd.jupyter.widget-view+json": {
       "model_id": "01fecb83bde74fb083d8984fbe111bf7",
       "version_major": 2,
       "version_minor": 0
      },
      "text/plain": [
       "README.md:   0%|          | 0.00/354 [00:00<?, ?B/s]"
      ]
     },
     "metadata": {},
     "output_type": "display_data"
    },
    {
     "data": {
      "application/vnd.jupyter.widget-view+json": {
       "model_id": "3975db117bbb4edf8dde03b027296472",
       "version_major": 2,
       "version_minor": 0
      },
      "text/plain": [
       "train-00000-of-00001.parquet:   0%|          | 0.00/96.9M [00:00<?, ?B/s]"
      ]
     },
     "metadata": {},
     "output_type": "display_data"
    },
    {
     "data": {
      "application/vnd.jupyter.widget-view+json": {
       "model_id": "4ebde81ea7964c4995d1bee5068538a5",
       "version_major": 2,
       "version_minor": 0
      },
      "text/plain": [
       "Generating train split:   0%|          | 0/27 [00:00<?, ? examples/s]"
      ]
     },
     "metadata": {},
     "output_type": "display_data"
    },
    {
     "data": {
      "text/plain": [
       "dict_keys(['image', 'page_number', 'page_id'])"
      ]
     },
     "execution_count": 2,
     "metadata": {},
     "output_type": "execute_result"
    }
   ],
   "source": [
    "from datasets import load_dataset \n",
    "\n",
    "civil_plans_dict=load_dataset(\"genesis1SubHub/NHA-Civil-set\")\n",
    "civil_plans=civil_plans_dict[\"train\"]\n",
    "civil_plans.features.keys()"
   ]
  },
  {
   "cell_type": "code",
   "execution_count": 9,
   "id": "6267e83a-9df7-41cc-a555-034d4945c1a9",
   "metadata": {},
   "outputs": [],
   "source": [
    "from generate_closed.utils import base64_encode_pil_image\n",
    "\n",
    "based64_str=base64_encode_pil_image(civil_plans[\"image\"][0])"
   ]
  },
  {
   "cell_type": "markdown",
   "id": "22efb25d-4936-4a14-8ca0-bf39f726fb8f",
   "metadata": {},
   "source": [
    "# Model and Processor Setup"
   ]
  },
  {
   "cell_type": "code",
   "execution_count": 19,
   "id": "a1e9dbf2-ba18-4169-8a95-2f455cf98405",
   "metadata": {},
   "outputs": [],
   "source": [
    "from generate.custom_model.qwen_2_5_utils import (\n",
    "    setup_model,\n",
    "    setup_processor,\n",
    ")\n",
    "model=setup_model(\n",
    "    env=globals()\n",
    ")\n",
    "processor=setup_processor(\n",
    "    env=globals()\n",
    ")"
   ]
  },
  {
   "cell_type": "markdown",
   "id": "8c7324f0-7dd3-4594-b39c-0c97307df61d",
   "metadata": {},
   "source": [
    "# Setup Model Inputs"
   ]
  },
  {
   "cell_type": "code",
   "execution_count": 14,
   "id": "af731520-97b2-45b4-9770-5c7ab9b7feaf",
   "metadata": {},
   "outputs": [
    {
     "ename": "NameError",
     "evalue": "name 'processor' is not defined",
     "output_type": "error",
     "traceback": [
      "\u001b[0;31m---------------------------------------------------------------------------\u001b[0m",
      "\u001b[0;31mNameError\u001b[0m                                 Traceback (most recent call last)",
      "\u001b[0;32m/tmp/ipykernel_29808/1526135808.py\u001b[0m in \u001b[0;36m<module>\u001b[0;34m\u001b[0m\n\u001b[1;32m     14\u001b[0m     \u001b[0msystem_prompt\u001b[0m\u001b[0;34m=\u001b[0m\u001b[0mfeature_system_prompt\u001b[0m\u001b[0;34m,\u001b[0m\u001b[0;34m\u001b[0m\u001b[0;34m\u001b[0m\u001b[0m\n\u001b[1;32m     15\u001b[0m     \u001b[0minput_generator\u001b[0m\u001b[0;34m=\u001b[0m\u001b[0mgenerate_inputs_qwen2_5\u001b[0m\u001b[0;34m,\u001b[0m\u001b[0;34m\u001b[0m\u001b[0;34m\u001b[0m\u001b[0m\n\u001b[0;32m---> 16\u001b[0;31m     \u001b[0mprocessor\u001b[0m\u001b[0;34m=\u001b[0m\u001b[0mprocessor\u001b[0m\u001b[0;34m,\u001b[0m\u001b[0;34m\u001b[0m\u001b[0;34m\u001b[0m\u001b[0m\n\u001b[0m\u001b[1;32m     17\u001b[0m )\n",
      "\u001b[0;31mNameError\u001b[0m: name 'processor' is not defined"
     ]
    }
   ],
   "source": [
    "from generate.generate_utils import create_samples\n",
    "from generate.system_prompts import (\n",
    "    feature_system_prompt,\n",
    "    feature_prompt,\n",
    ")\n",
    "from generate.custom_model.qwen_2_5_utils import generate_inputs_qwen2_5\n",
    "\n",
    "feature_input_ids_list = create_samples(\n",
    "    plans=civil_plans.select(\n",
    "        (0,1)\n",
    "    ),\n",
    "    image_header=\"image\",\n",
    "    prompt=feature_prompt,\n",
    "    system_prompt=feature_system_prompt,\n",
    "    input_generator=generate_inputs_qwen2_5,\n",
    "    processor=processor,\n",
    ")"
   ]
  },
  {
   "cell_type": "code",
   "execution_count": 33,
   "id": "ce7c4a2f-5f54-4b96-80e8-9efd1bd33178",
   "metadata": {},
   "outputs": [],
   "source": [
    "from generate.system_prompts import (\n",
    "    convert_to_scope_system_prompt,\n",
    "    convert_to_scope_feature_prompt,\n",
    ")"
   ]
  },
  {
   "cell_type": "markdown",
   "id": "2801ca87-c508-47ba-8e78-c9050444854f",
   "metadata": {},
   "source": [
    "# Generate"
   ]
  },
  {
   "cell_type": "code",
   "execution_count": 13,
   "id": "285a1cb0-8815-4085-af45-8292f15afa8e",
   "metadata": {},
   "outputs": [],
   "source": [
    "from generate.qwen_2_5_utils import (\n",
    "    process_vision_info,\n",
    "    get_resized_dims,\n",
    ")"
   ]
  },
  {
   "cell_type": "code",
   "execution_count": null,
   "id": "b3443a37-3db9-438f-8b49-b324a5ff279d",
   "metadata": {},
   "outputs": [],
   "source": [
    "from generate.generate_utils import generate\n",
    "from collections import defaultdict\n",
    "import time"
   ]
  }
 ],
 "metadata": {
  "kernelspec": {
   "display_name": "Python 3 (ipykernel)",
   "language": "python",
   "name": "python3"
  },
  "language_info": {
   "codemirror_mode": {
    "name": "ipython",
    "version": 3
   },
   "file_extension": ".py",
   "mimetype": "text/x-python",
   "name": "python",
   "nbconvert_exporter": "python",
   "pygments_lexer": "ipython3",
   "version": "3.10.12"
  }
 },
 "nbformat": 4,
 "nbformat_minor": 5
}
