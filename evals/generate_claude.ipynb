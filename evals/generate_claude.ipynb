{
 "cells": [
  {
   "cell_type": "code",
   "execution_count": 26,
   "id": "77e6eef4-e6e0-4bbe-9e32-b9455c2b909b",
   "metadata": {
    "scrolled": true
   },
   "outputs": [
    {
     "name": "stdout",
     "output_type": "stream",
     "text": [
      "Message(id='msg_0178mmLBz1po6bCYuZhpVcLc', content=[TextBlock(citations=None, text='This image shows a civil construction plan set cover sheet for the Homestead Hills Subdivision Filing No. 3, Amendment No. 2, Lots 1A & 2A. The document is specifically for the Homestead Hills New Horizon Academy Daycare, located at Colorado Boulevard and East 138th Avenue in the City of Thornton, Adams County, Colorado.\\n\\nThe sheet includes a vicinity map showing the project location at the intersection of Colorado Boulevard and E 138th Avenue, with an arrow pointing to the exact site. The right side contains a sheet index listing the various plan components (such as cover sheet, general notes, demolition plan, site layout, grading plan, etc.) with corresponding page numbers.\\n\\nThere\\'s technical information about horizontal and vertical datums, basis of bearing, and utility contact information at the bottom of the page. The document is marked \"NOT FOR CONSTRUCTION\" in the top right corner and appears to be prepared by SEH (Short Elliott Hendrickson Inc.), an engineering firm whose logo is visible in the upper right corner.\\n\\nThis is page 1 of the construction set, labeled as the cover sheet.', type='text')], model='claude-3-7-sonnet-20250219', role='assistant', stop_reason='end_turn', stop_sequence=None, type='message', usage=Usage(cache_creation_input_tokens=0, cache_read_input_tokens=0, input_tokens=1552, output_tokens=246, server_tool_use=None))\n"
     ]
    }
   ],
   "source": [
    "from generate_closed.utils import anthropic_encode_pil_image\n",
    "\n",
    "import anthropic\n",
    "\n",
    "client = anthropic.Anthropic(\n",
    "    api_key=\"[REMOVED_SECRET]\",  # Your Anthropic API key\n",
    "\n",
    ")\n",
    "message = client.messages.create(\n",
    "    model=\"claude-3-7-sonnet-20250219\",\n",
    "    max_tokens=1024,\n",
    "    messages=[\n",
    "        {\n",
    "            \"role\": \"user\",\n",
    "            \"content\": [\n",
    "                {\n",
    "                    \"type\": \"image\",\n",
    "                    \"source\": {\n",
    "                        \"type\": \"base64\",\n",
    "                        \"media_type\": \"image/jpeg\",\n",
    "                        \"data\": anthropic_encode_pil_image(civil_plans[\"image\"][0]),\n",
    "                    },\n",
    "                },\n",
    "                {\n",
    "                    \"type\": \"text\",\n",
    "                    \"text\": \"Describe this image.\"\n",
    "                }\n",
    "            ],\n",
    "        }\n",
    "    ],\n",
    ")"
   ]
  },
  {
   "cell_type": "code",
   "execution_count": 29,
   "id": "4b36c694-a287-4e38-98f8-ec0b7597c01c",
   "metadata": {},
   "outputs": [
    {
     "name": "stdout",
     "output_type": "stream",
     "text": [
      "This image shows a civil construction plan set cover sheet for the Homestead Hills Subdivision Filing No. 3, Amendment No. 2, Lots 1A & 2A. The document is specifically for the Homestead Hills New Horizon Academy Daycare, located at Colorado Boulevard and East 138th Avenue in the City of Thornton, Adams County, Colorado.\n",
      "\n",
      "The sheet includes a vicinity map showing the project location at the intersection of Colorado Boulevard and E 138th Avenue, with an arrow pointing to the exact site. The right side contains a sheet index listing the various plan components (such as cover sheet, general notes, demolition plan, site layout, grading plan, etc.) with corresponding page numbers.\n",
      "\n",
      "There's technical information about horizontal and vertical datums, basis of bearing, and utility contact information at the bottom of the page. The document is marked \"NOT FOR CONSTRUCTION\" in the top right corner and appears to be prepared by SEH (Short Elliott Hendrickson Inc.), an engineering firm whose logo is visible in the upper right corner.\n",
      "\n",
      "This is page 1 of the construction set, labeled as the cover sheet.\n"
     ]
    }
   ],
   "source": [
    "print(message.content[0].text)"
   ]
  },
  {
   "cell_type": "code",
   "execution_count": null,
   "id": "52d842b5-d47b-405f-a98d-28380eec9ca0",
   "metadata": {},
   "outputs": [],
   "source": []
  }
 ],
 "metadata": {
  "kernelspec": {
   "display_name": "Python 3 (ipykernel)",
   "language": "python",
   "name": "python3"
  },
  "language_info": {
   "codemirror_mode": {
    "name": "ipython",
    "version": 3
   },
   "file_extension": ".py",
   "mimetype": "text/x-python",
   "name": "python",
   "nbconvert_exporter": "python",
   "pygments_lexer": "ipython3",
   "version": "3.10.12"
  }
 },
 "nbformat": 4,
 "nbformat_minor": 5
}
