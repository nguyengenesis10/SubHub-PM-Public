{
 "cells": [
  {
   "cell_type": "markdown",
   "id": "210d39fd-9ddc-415d-aa73-af05cc14dc3b",
   "metadata": {},
   "source": [
    "# Disable Warnings and setup autoreload."
   ]
  },
  {
   "cell_type": "code",
   "execution_count": 71,
   "id": "52a7d2c6-24d3-4171-9905-c69fe068263c",
   "metadata": {},
   "outputs": [
    {
     "name": "stdout",
     "output_type": "stream",
     "text": [
      "The autoreload extension is already loaded. To reload it, use:\n",
      "  %reload_ext autoreload\n"
     ]
    },
    {
     "name": "stderr",
     "output_type": "stream",
     "text": [
      "huggingface/tokenizers: The current process just got forked, after parallelism has already been used. Disabling parallelism to avoid deadlocks...\n",
      "To disable this warning, you can either:\n",
      "\t- Avoid using `tokenizers` before the fork if possible\n",
      "\t- Explicitly set the environment variable TOKENIZERS_PARALLELISM=(true | false)\n",
      "huggingface/tokenizers: The current process just got forked, after parallelism has already been used. Disabling parallelism to avoid deadlocks...\n",
      "To disable this warning, you can either:\n",
      "\t- Avoid using `tokenizers` before the fork if possible\n",
      "\t- Explicitly set the environment variable TOKENIZERS_PARALLELISM=(true | false)\n",
      "huggingface/tokenizers: The current process just got forked, after parallelism has already been used. Disabling parallelism to avoid deadlocks...\n",
      "To disable this warning, you can either:\n",
      "\t- Avoid using `tokenizers` before the fork if possible\n",
      "\t- Explicitly set the environment variable TOKENIZERS_PARALLELISM=(true | false)\n"
     ]
    }
   ],
   "source": [
    "%load_ext autoreload\n",
    "%autoreload 2\n",
    "\n",
    "!export TF_CPP_MIN_LOG_LEVEL=3\n",
    "!export XLA_FLAGS=--xla_gpu_cuda_data_dir=/dev/null\n",
    "!export TF_XLA_FLAGS=\"--tf_xla_enable_xla_devices=false\""
   ]
  },
  {
   "cell_type": "code",
   "execution_count": 2,
   "id": "1d429047-d880-4085-88ec-2b4fef6cd751",
   "metadata": {},
   "outputs": [],
   "source": [
    "import warnings\n",
    "from IPython.core.interactiveshell import InteractiveShell\n",
    "InteractiveShell.ast_node_interactivity = \"all\"\n",
    "warnings.filterwarnings(\"always\")"
   ]
  },
  {
   "cell_type": "markdown",
   "id": "14d0965e-a14f-4286-ab44-e259f03e26b1",
   "metadata": {},
   "source": [
    "# Load Raw Labels and Preds\n",
    "\n",
    "Returns as ```labels``` and ```preds```."
   ]
  },
  {
   "cell_type": "code",
   "execution_count": 3,
   "id": "78f4468e-ef2c-4804-b975-297a81bb0a3f",
   "metadata": {},
   "outputs": [
    {
     "data": {
      "application/vnd.jupyter.widget-view+json": {
       "model_id": "dcc77d7314aa4865859dddfdbfac8f5d",
       "version_major": 2,
       "version_minor": 0
      },
      "text/plain": [
       "README.md:   0%|          | 0.00/385 [00:00<?, ?B/s]"
      ]
     },
     "metadata": {},
     "output_type": "display_data"
    },
    {
     "data": {
      "application/vnd.jupyter.widget-view+json": {
       "model_id": "b7ce963cec874d098624723cd8987a18",
       "version_major": 2,
       "version_minor": 0
      },
      "text/plain": [
       "train-00000-of-00001.parquet:   0%|          | 0.00/6.29k [00:00<?, ?B/s]"
      ]
     },
     "metadata": {},
     "output_type": "display_data"
    },
    {
     "data": {
      "application/vnd.jupyter.widget-view+json": {
       "model_id": "a496e85dba42459aafc236bccdb57c8b",
       "version_major": 2,
       "version_minor": 0
      },
      "text/plain": [
       "Generating train split:   0%|          | 0/93 [00:00<?, ? examples/s]"
      ]
     },
     "metadata": {},
     "output_type": "display_data"
    },
    {
     "data": {
      "application/vnd.jupyter.widget-view+json": {
       "model_id": "00fc011a176f487191f0e7b8860d1d83",
       "version_major": 2,
       "version_minor": 0
      },
      "text/plain": [
       "README.md:   0%|          | 0.00/354 [00:00<?, ?B/s]"
      ]
     },
     "metadata": {},
     "output_type": "display_data"
    },
    {
     "data": {
      "application/vnd.jupyter.widget-view+json": {
       "model_id": "69a928b8553d421da5df47171456ad3e",
       "version_major": 2,
       "version_minor": 0
      },
      "text/plain": [
       "train-00000-of-00001.parquet:   0%|          | 0.00/96.9M [00:00<?, ?B/s]"
      ]
     },
     "metadata": {},
     "output_type": "display_data"
    },
    {
     "data": {
      "application/vnd.jupyter.widget-view+json": {
       "model_id": "c7ef7f1b22dc46d38f64f367a00fe6fc",
       "version_major": 2,
       "version_minor": 0
      },
      "text/plain": [
       "Generating train split:   0%|          | 0/27 [00:00<?, ? examples/s]"
      ]
     },
     "metadata": {},
     "output_type": "display_data"
    },
    {
     "name": "stdout",
     "output_type": "stream",
     "text": [
      "Num Preds: 366\n",
      "Num labels: 93\n"
     ]
    }
   ],
   "source": [
    "import pandas as pd \n",
    "\n",
    "# fn=\"NHA_civil_model_outputs_extract2.csv\"\n",
    "fn = \"NHA_civil_recursive_generation_results2.csv\"\n",
    "\n",
    "df=pd.read_csv(fn)\n",
    "preds=df[\"Scopes\"].tolist()\n",
    "pred_pages=df[\"Page\"].tolist()\n",
    "\n",
    "from datasets import load_dataset \n",
    "\n",
    "civil_scope_breakout_dict=load_dataset(\"genesis1SubHub/NHA-Civil-Scope-breakout\")\n",
    "civil_plans_dict=load_dataset(\"genesis1SubHub/NHA-Civil-set\")\n",
    "\n",
    "civil_scope_breakout=civil_scope_breakout_dict[\"train\"]\n",
    "civil_plans=civil_plans_dict[\"train\"]\n",
    "\n",
    "labels=civil_scope_breakout[\"scope\"]\n",
    "label_pages=civil_scope_breakout[\"page_ids\"]\n",
    "\n",
    "print(f\"Num Preds: {len(preds)}\")\n",
    "print(f\"Num labels: {len(labels)}\")"
   ]
  },
  {
   "cell_type": "markdown",
   "id": "8d6845d9-fee2-494c-8eff-9c3bdd6caf87",
   "metadata": {},
   "source": [
    "# Evaluate"
   ]
  },
  {
   "cell_type": "code",
   "execution_count": 4,
   "id": "c201fa51-5bbe-46f3-95fb-af8d9451b7f8",
   "metadata": {
    "scrolled": true
   },
   "outputs": [
    {
     "name": "stderr",
     "output_type": "stream",
     "text": [
      "/usr/lib/python3/dist-packages/sklearn/utils/multiclass.py:13: DeprecationWarning: Please use `spmatrix` from the `scipy.sparse` namespace, the `scipy.sparse.base` namespace is deprecated.\n",
      "  from scipy.sparse.base import spmatrix\n",
      "2025-05-12 20:12:26.681596: E external/local_xla/xla/stream_executor/cuda/cuda_fft.cc:467] Unable to register cuFFT factory: Attempting to register factory for plugin cuFFT when one has already been registered\n",
      "WARNING: All log messages before absl::InitializeLog() is called are written to STDERR\n",
      "E0000 00:00:1747080746.703980    2479 cuda_dnn.cc:8579] Unable to register cuDNN factory: Attempting to register factory for plugin cuDNN when one has already been registered\n",
      "E0000 00:00:1747080746.714186    2479 cuda_blas.cc:1407] Unable to register cuBLAS factory: Attempting to register factory for plugin cuBLAS when one has already been registered\n",
      "W0000 00:00:1747080746.732826    2479 computation_placer.cc:177] computation placer already registered. Please check linkage and avoid linking the same target more than once.\n",
      "W0000 00:00:1747080746.732847    2479 computation_placer.cc:177] computation placer already registered. Please check linkage and avoid linking the same target more than once.\n",
      "W0000 00:00:1747080746.732850    2479 computation_placer.cc:177] computation placer already registered. Please check linkage and avoid linking the same target more than once.\n",
      "W0000 00:00:1747080746.732852    2479 computation_placer.cc:177] computation placer already registered. Please check linkage and avoid linking the same target more than once.\n",
      "2025-05-12 20:12:26.738635: I tensorflow/core/platform/cpu_feature_guard.cc:210] This TensorFlow binary is optimized to use available CPU instructions in performance-critical operations.\n",
      "To enable the following instructions: AVX2 FMA, in other operations, rebuild TensorFlow with the appropriate compiler flags.\n",
      "/usr/lib/python3/dist-packages/sklearn/utils/optimize.py:18: DeprecationWarning: Please use `line_search_wolfe2` from the `scipy.optimize` namespace, the `scipy.optimize.linesearch` namespace is deprecated.\n",
      "  from scipy.optimize.linesearch import line_search_wolfe2, line_search_wolfe1\n",
      "/usr/lib/python3/dist-packages/sklearn/utils/optimize.py:18: DeprecationWarning: Please use `line_search_wolfe1` from the `scipy.optimize` namespace, the `scipy.optimize.linesearch` namespace is deprecated.\n",
      "  from scipy.optimize.linesearch import line_search_wolfe2, line_search_wolfe1\n"
     ]
    },
    {
     "name": "stdout",
     "output_type": "stream",
     "text": [
      "No instance of embed model found, building from source.\n"
     ]
    },
    {
     "data": {
      "application/vnd.jupyter.widget-view+json": {
       "model_id": "5544edf4bd624eb8a687651c39300902",
       "version_major": 2,
       "version_minor": 0
      },
      "text/plain": [
       "modules.json:   0%|          | 0.00/461 [00:00<?, ?B/s]"
      ]
     },
     "metadata": {},
     "output_type": "display_data"
    },
    {
     "data": {
      "application/vnd.jupyter.widget-view+json": {
       "model_id": "1fffeca7897945cd8f5b24ccffe685b6",
       "version_major": 2,
       "version_minor": 0
      },
      "text/plain": [
       "config_sentence_transformers.json:   0%|          | 0.00/122 [00:00<?, ?B/s]"
      ]
     },
     "metadata": {},
     "output_type": "display_data"
    },
    {
     "data": {
      "application/vnd.jupyter.widget-view+json": {
       "model_id": "6b0cfaf5210f4f91b85e3bf365bec721",
       "version_major": 2,
       "version_minor": 0
      },
      "text/plain": [
       "README.md:   0%|          | 0.00/1.76k [00:00<?, ?B/s]"
      ]
     },
     "metadata": {},
     "output_type": "display_data"
    },
    {
     "data": {
      "application/vnd.jupyter.widget-view+json": {
       "model_id": "4bd45b1a78fb492fb3eba856018cf2a1",
       "version_major": 2,
       "version_minor": 0
      },
      "text/plain": [
       "sentence_bert_config.json:   0%|          | 0.00/53.0 [00:00<?, ?B/s]"
      ]
     },
     "metadata": {},
     "output_type": "display_data"
    },
    {
     "data": {
      "application/vnd.jupyter.widget-view+json": {
       "model_id": "1935dc8d02184fd39de360fc7805070a",
       "version_major": 2,
       "version_minor": 0
      },
      "text/plain": [
       "config.json:   0%|          | 0.00/1.39k [00:00<?, ?B/s]"
      ]
     },
     "metadata": {},
     "output_type": "display_data"
    },
    {
     "data": {
      "application/vnd.jupyter.widget-view+json": {
       "model_id": "e84ce777e2464fadbe5bae6b8b19d681",
       "version_major": 2,
       "version_minor": 0
      },
      "text/plain": [
       "model.safetensors:   0%|          | 0.00/2.48G [00:00<?, ?B/s]"
      ]
     },
     "metadata": {},
     "output_type": "display_data"
    },
    {
     "name": "stderr",
     "output_type": "stream",
     "text": [
      "sys:1: ResourceWarning: unclosed socket <zmq.Socket(zmq.PUSH) at 0x7204363264a0>\n",
      "ResourceWarning: Enable tracemalloc to get the object allocation traceback\n",
      "sys:1: ResourceWarning: unclosed socket <zmq.Socket(zmq.PUSH) at 0x720436326bc0>\n",
      "ResourceWarning: Enable tracemalloc to get the object allocation traceback\n",
      "sys:1: ResourceWarning: unclosed socket <zmq.Socket(zmq.PUSH) at 0x720436326b00>\n",
      "ResourceWarning: Enable tracemalloc to get the object allocation traceback\n",
      "sys:1: ResourceWarning: unclosed socket <zmq.Socket(zmq.PUSH) at 0x720436326b00>\n",
      "ResourceWarning: Enable tracemalloc to get the object allocation traceback\n",
      "sys:1: ResourceWarning: unclosed socket <zmq.Socket(zmq.PUSH) at 0x720436326b00>\n",
      "ResourceWarning: Enable tracemalloc to get the object allocation traceback\n",
      "sys:1: ResourceWarning: unclosed socket <zmq.Socket(zmq.PUSH) at 0x720436326b00>\n",
      "ResourceWarning: Enable tracemalloc to get the object allocation traceback\n",
      "sys:1: ResourceWarning: unclosed socket <zmq.Socket(zmq.PUSH) at 0x720436326b00>\n",
      "ResourceWarning: Enable tracemalloc to get the object allocation traceback\n",
      "sys:1: ResourceWarning: unclosed socket <zmq.Socket(zmq.PUSH) at 0x720436326b00>\n",
      "ResourceWarning: Enable tracemalloc to get the object allocation traceback\n",
      "sys:1: ResourceWarning: unclosed socket <zmq.Socket(zmq.PUSH) at 0x720436326b00>\n",
      "ResourceWarning: Enable tracemalloc to get the object allocation traceback\n",
      "sys:1: ResourceWarning: unclosed socket <zmq.Socket(zmq.PUSH) at 0x720436326e00>\n",
      "ResourceWarning: Enable tracemalloc to get the object allocation traceback\n",
      "sys:1: ResourceWarning: unclosed socket <zmq.Socket(zmq.PUSH) at 0x720436326e00>\n",
      "ResourceWarning: Enable tracemalloc to get the object allocation traceback\n",
      "sys:1: ResourceWarning: unclosed socket <zmq.Socket(zmq.PUSH) at 0x720436326e00>\n",
      "ResourceWarning: Enable tracemalloc to get the object allocation traceback\n",
      "sys:1: ResourceWarning: unclosed socket <zmq.Socket(zmq.PUSH) at 0x720436326e00>\n",
      "ResourceWarning: Enable tracemalloc to get the object allocation traceback\n"
     ]
    },
    {
     "data": {
      "application/vnd.jupyter.widget-view+json": {
       "model_id": "16fc238fa5944f9fb0311aa4b69eb92d",
       "version_major": 2,
       "version_minor": 0
      },
      "text/plain": [
       "tokenizer_config.json:   0%|          | 0.00/1.92k [00:00<?, ?B/s]"
      ]
     },
     "metadata": {},
     "output_type": "display_data"
    },
    {
     "data": {
      "application/vnd.jupyter.widget-view+json": {
       "model_id": "78fc22c100de4755ad9aff7e2afe5c8c",
       "version_major": 2,
       "version_minor": 0
      },
      "text/plain": [
       "spiece.model:   0%|          | 0.00/792k [00:00<?, ?B/s]"
      ]
     },
     "metadata": {},
     "output_type": "display_data"
    },
    {
     "name": "stderr",
     "output_type": "stream",
     "text": [
      "sys:1: ResourceWarning: unclosed socket <zmq.Socket(zmq.PUSH) at 0x720436295fc0>\n",
      "ResourceWarning: Enable tracemalloc to get the object allocation traceback\n"
     ]
    },
    {
     "data": {
      "application/vnd.jupyter.widget-view+json": {
       "model_id": "9fe9fbc24d1c4b97b3ed867ee8eb7e79",
       "version_major": 2,
       "version_minor": 0
      },
      "text/plain": [
       "tokenizer.json:   0%|          | 0.00/1.39M [00:00<?, ?B/s]"
      ]
     },
     "metadata": {},
     "output_type": "display_data"
    },
    {
     "data": {
      "application/vnd.jupyter.widget-view+json": {
       "model_id": "e4bb4c28ae304e58b87c9899d4da9007",
       "version_major": 2,
       "version_minor": 0
      },
      "text/plain": [
       "special_tokens_map.json:   0%|          | 0.00/1.79k [00:00<?, ?B/s]"
      ]
     },
     "metadata": {},
     "output_type": "display_data"
    },
    {
     "data": {
      "application/vnd.jupyter.widget-view+json": {
       "model_id": "f05ca89dfd3c460ebe67aa5f67e3b086",
       "version_major": 2,
       "version_minor": 0
      },
      "text/plain": [
       "config.json:   0%|          | 0.00/190 [00:00<?, ?B/s]"
      ]
     },
     "metadata": {},
     "output_type": "display_data"
    },
    {
     "name": "stderr",
     "output_type": "stream",
     "text": [
      "sys:1: ResourceWarning: unclosed socket <zmq.Socket(zmq.PUSH) at 0x720436296da0>\n",
      "ResourceWarning: Enable tracemalloc to get the object allocation traceback\n"
     ]
    },
    {
     "data": {
      "application/vnd.jupyter.widget-view+json": {
       "model_id": "3316da84b4194e0fbdd42e3dd590b762",
       "version_major": 2,
       "version_minor": 0
      },
      "text/plain": [
       "config.json:   0%|          | 0.00/116 [00:00<?, ?B/s]"
      ]
     },
     "metadata": {},
     "output_type": "display_data"
    },
    {
     "data": {
      "application/vnd.jupyter.widget-view+json": {
       "model_id": "bec16c6efe9c4f6fab6d1de9df50adc1",
       "version_major": 2,
       "version_minor": 0
      },
      "text/plain": [
       "2_Dense/model.safetensors:   0%|          | 0.00/3.15M [00:00<?, ?B/s]"
      ]
     },
     "metadata": {},
     "output_type": "display_data"
    },
    {
     "data": {
      "application/vnd.jupyter.widget-view+json": {
       "model_id": "cdf8af8d85e34e90aee258805249038c",
       "version_major": 2,
       "version_minor": 0
      },
      "text/plain": [
       "2_Dense/pytorch_model.bin:   0%|          | 0.00/3.15M [00:00<?, ?B/s]"
      ]
     },
     "metadata": {},
     "output_type": "display_data"
    },
    {
     "name": "stderr",
     "output_type": "stream",
     "text": [
      "sys:1: ResourceWarning: unclosed socket <zmq.Socket(zmq.PUSH) at 0x720436297e80>\n",
      "ResourceWarning: Enable tracemalloc to get the object allocation traceback\n",
      "sys:1: ResourceWarning: unclosed socket <zmq.Socket(zmq.PUSH) at 0x720436296020>\n",
      "ResourceWarning: Enable tracemalloc to get the object allocation traceback\n",
      "sys:1: ResourceWarning: unclosed socket <zmq.Socket(zmq.PUSH) at 0x720436297820>\n",
      "ResourceWarning: Enable tracemalloc to get the object allocation traceback\n",
      "sys:1: ResourceWarning: unclosed socket <zmq.Socket(zmq.PUSH) at 0x720436297ca0>\n",
      "ResourceWarning: Enable tracemalloc to get the object allocation traceback\n",
      "sys:1: ResourceWarning: unclosed socket <zmq.Socket(zmq.PUSH) at 0x720436297e20>\n",
      "ResourceWarning: Enable tracemalloc to get the object allocation traceback\n"
     ]
    }
   ],
   "source": [
    "from src.pipeline import PipelineOrchestrator\n",
    "from src.system_prompts import (\n",
    "    merge_system_prompt_new,\n",
    "    phrase_normalize_system_prompt,\n",
    "    gray_area_analysis_system_prompt,\n",
    ")\n",
    "\n",
    "from openai import OpenAI\n",
    "\n",
    "ground_truth_model=\"gpt-4o-2024-08-06\"\n",
    "client = OpenAI(api_key=\"[REMOVED_SECRET]\")\n",
    "\n",
    "kwargs = {\n",
    "    \"display_pbar\":True,\n",
    "    \"print_log\":False,\n",
    "    \"n_clusters\":None,\n",
    "    \"client\":client,\n",
    "\n",
    "    \"norm.temperature\":0.25,\n",
    "    \"norm.system_prompt\":phrase_normalize_system_prompt,\n",
    "\n",
    "    \"group.threshold\":0.1,\n",
    "    \"group.cluster.linkage\":\"average\",\n",
    "    \"group.cluster.affinity\":\"precomputed\",\n",
    "\n",
    "    \"merge.model_name\": ground_truth_model,\n",
    "    \"merge.temperature\": 0.25,\n",
    "    \"merge.system_prompt\": merge_system_prompt_new,\n",
    "\n",
    "    \"compare.threshold\":0.16,\n",
    "    \"compare.scs_alpha\":0.70,\n",
    "    \"compare.cluster.linkage\":\"average\",\n",
    "    \"compare.cluster.affinity\":None,\n",
    "    \n",
    "    \"gray.model_name\":ground_truth_model,\n",
    "    \"gray.temperature\" : 0.25,\n",
    "    \"gray.hybrid_dist_alpha\":0.40,\n",
    "    \"gray.system_prompt\":gray_area_analysis_system_prompt,\n",
    "}\n",
    "\n",
    "pipeline_orchestrator=PipelineOrchestrator(\n",
    "    device=\"cuda:0\",\n",
    "    env=globals(),\n",
    "    **kwargs\n",
    ")"
   ]
  },
  {
   "cell_type": "code",
   "execution_count": 5,
   "id": "6871547c-f098-42a4-9c1b-45f2afb7fa6c",
   "metadata": {},
   "outputs": [
    {
     "name": "stdout",
     "output_type": "stream",
     "text": [
      "Experiment Config Schema:\n",
      "\n",
      "  NORM config:\n",
      "    client: <openai.OpenAI object at 0x72079a41fb20>\n",
      "    model_name: gpt-4o-2024-08-06\n",
      "    temperature: 0.25\n",
      "    print_log: False\n",
      "    display_pbar: True\n",
      "\n",
      "  EMBED config:\n",
      "    model_name: sentence-t5-xl\n",
      "\n",
      "  GROUP config:\n",
      "    threshold: 0.1\n",
      "    n_clusters: None\n",
      "    cluster: ClusterConfig(linkage='average', affinity='precomputed')\n",
      "\n",
      "  MERGE config:\n",
      "    client: <openai.OpenAI object at 0x72079a41fb20>\n",
      "    model_name: gpt-4o-2024-08-06\n",
      "    temperature: 0.25\n",
      "    display_pbar: True\n",
      "\n",
      "  COMPARE config:\n",
      "    threshold: 0.16\n",
      "    n_clusters: None\n",
      "    scs_alpha: 0.7\n",
      "    cluster: ClusterConfig(linkage='average', affinity=None)\n",
      "\n",
      "  GRAY config:\n",
      "    client: <openai.OpenAI object at 0x72079a41fb20>\n",
      "    model_name: gpt-4o-2024-08-06\n",
      "    temperature: 0.25\n",
      "    hybrid_dist_alpha: 0.4\n",
      "\n"
     ]
    }
   ],
   "source": [
    "# Disable printing system prompts in the __str__ method\n",
    "print(pipeline_orchestrator.experiement_config)"
   ]
  },
  {
   "cell_type": "code",
   "execution_count": 6,
   "id": "87aaf7ca-1a48-465c-aa92-fcb174d27e99",
   "metadata": {},
   "outputs": [
    {
     "name": "stderr",
     "output_type": "stream",
     "text": [
      "Phrases Processed: 366/366: 100%|\u001b[34m██████████\u001b[0m| 366/366 [05:53<00:00,  1.04it/s]\n",
      "Phrases Processed: 93/93: 100%|\u001b[34m██████████\u001b[0m| 93/93 [01:14<00:00,  1.24it/s]\n"
     ]
    }
   ],
   "source": [
    "pipeline_orchestrator.setup_corpus(\n",
    "    preds=preds,\n",
    "    pred_pages=pred_pages,\n",
    "    labels=labels,\n",
    "    label_pages=label_pages,\n",
    ")"
   ]
  },
  {
   "cell_type": "code",
   "execution_count": 81,
   "id": "fc691311-ebb4-4202-b27c-ffb235abb100",
   "metadata": {},
   "outputs": [
    {
     "name": "stdout",
     "output_type": "stream",
     "text": [
      "Dist-matrix shape: (366, 366)\n",
      "\n",
      "Clusters Breakdown:\n",
      "  Node Count 1 : Cluster Count 202\n",
      "  Node Count 2 : Cluster Count 33\n",
      "  Node Count 3 : Cluster Count 10\n",
      "  Node Count 4 : Cluster Count 4\n",
      "  Node Count 5 : Cluster Count 3\n",
      "  Node Count 6 : Cluster Count 2\n",
      "  Node Count 7 : Cluster Count 1\n",
      "  Node Count 8 : Cluster Count 1\n",
      "  Node Count 10 : Cluster Count 1\n",
      "\n",
      "Cluster Schema:\n",
      "  Nonsingleton Cluster Count: 55\n",
      "  Singleton Cluster Count: 202\n",
      "  Total Clusters: 257\n",
      "\n",
      "Num preds | Total Nodes: 366\n",
      "Cluster Avg Dist Schema\n",
      "  Num Nodes: 2 Avg Dist: 0.0517 Dist Stdev: 0.0334\n",
      "  Num Nodes: 3 Avg Dist: 0.0505 Dist Stdev: 0.0361\n",
      "  Num Nodes: 4 Avg Dist: 0.0500 Dist Stdev: 0.0366\n",
      "  Num Nodes: 5 Avg Dist: 0.0530 Dist Stdev: 0.0321\n",
      "  Num Nodes: 6 Avg Dist: 0.0528 Dist Stdev: 0.0253\n",
      "  Num Nodes: 7 Avg Dist: 0.0507 Dist Stdev: 0.0299\n",
      "  Num Nodes: 8 Avg Dist: 0.0626 Dist Stdev: 0.0318\n",
      "  Num Nodes: 10 Avg Dist: 0.0401 Dist Stdev: 0.0337\n",
      "\n",
      "All clusters have intra distance less than 0.1\n"
     ]
    },
    {
     "name": "stderr",
     "output_type": "stream",
     "text": [
      "Clusters Processed: 257/257: 100%|\u001b[34m██████████\u001b[0m| 257/257 [00:46<00:00,  5.47it/s]\n"
     ]
    },
    {
     "name": "stdout",
     "output_type": "stream",
     "text": [
      "Combined Pred Schema Before & After\n",
      "  Before: 3 Lenth of Combined Pred: 1 Count: 9\n",
      "  Before: 4 Lenth of Combined Pred: 1 Count: 4\n",
      "  Before: 8 Lenth of Combined Pred: 1 Count: 1\n",
      "  Before: 6 Lenth of Combined Pred: 1 Count: 1\n",
      "  Before: 2 Lenth of Combined Pred: 1 Count: 32\n",
      "  Before: 5 Lenth of Combined Pred: 1 Count: 3\n",
      "  Before: 3 Lenth of Combined Pred: 2 Count: 1\n",
      "  Before: 10 Lenth of Combined Pred: 1 Count: 1\n",
      "  Before: 6 Lenth of Combined Pred: 3 Count: 1\n",
      "  Before: 2 Lenth of Combined Pred: 2 Count: 1\n",
      "  Before: 7 Lenth of Combined Pred: 1 Count: 1\n",
      "\n",
      "Combined Pred Schema\n",
      "  Lenth of Combined Pred: 1 Count: 52\n",
      "  Lenth of Combined Pred: 2 Count: 2\n",
      "  Lenth of Combined Pred: 3 Count: 1\n",
      "\n",
      "Singleton Pred Groups Count: 202\n",
      "\n",
      "Results given threshold: 0.1600\n",
      "  Used Preds | Precision: 83/261 - 31.8008%\n",
      "  Used Labels | Recall: 51/93 - 54.8387%\n"
     ]
    },
    {
     "name": "stderr",
     "output_type": "stream",
     "text": [
      "Cluster Objs Processed: 76/76: 100%|\u001b[34m██████████\u001b[0m| 76/76 [01:48<00:00,  1.43s/it]"
     ]
    },
    {
     "name": "stdout",
     "output_type": "stream",
     "text": [
      "\n",
      "Hard pred count: 83/261 - 31.8008%\n",
      "Gray Area count: 178/261 - 68.1992%\n",
      "Used Label count: 51/93 - 54.8387%\n",
      "\n",
      "Gray Area Breakdown:\n",
      "  Irrelevant : 144 - 80.8989%\n",
      "  Subscope : 33 - 18.5393%\n",
      "  Match : 1 - 0.5618%\n",
      "No Matches Schema\n",
      "  Total No Matches: 144\n",
      "  in_singleton: 18\n",
      "  in_merged: 126\n",
      "\n",
      "Matches Schema\n",
      "  Total Matches: 84\n",
      "  in_singleton: 32\n",
      "  in_merged: 52\n",
      "\n",
      "Gray Matches Schema\n",
      "  Total Matches: 33\n",
      "  in_singleton: 9\n",
      "  in_merged: 24\n",
      "\n",
      "Match Page Accuracy:\n",
      "  Precision: 43.32/277 - 15.64%\n",
      "  Recall:  72.48/159 - 45.59%\n",
      "  Jaccard: 40.16/349 - 11.51%\n",
      "\n",
      "No Match Page Accuracy:\n",
      "  Precision: 0.00/149\n",
      "  Recall:  0.00/0\n",
      "  Jaccard: 0.00/149\n",
      "\n",
      "\n"
     ]
    },
    {
     "name": "stderr",
     "output_type": "stream",
     "text": [
      "\n"
     ]
    }
   ],
   "source": [
    "hard_scs_metrics , soft_scs_metrics, doc_results, merge_output = pipeline_orchestrator.eval(\n",
    "    plans=civil_plans,\n",
    "    scope_breakout=civil_scope_breakout,\n",
    ")"
   ]
  },
  {
   "cell_type": "code",
   "execution_count": 82,
   "id": "664116a7-399a-4f82-9279-ccc4f3ec2842",
   "metadata": {},
   "outputs": [
    {
     "name": "stdout",
     "output_type": "stream",
     "text": [
      "Recall: 62.82/93 = 67.55%\n",
      "Precision: 94.82/261 = 36.33%\n",
      "SCSₐ=0.70: 28.18%\n",
      "\n",
      "\n",
      "Recall: 51.00/93 = 54.84%\n",
      "Precision: 83.00/261 = 31.80%\n",
      "SCSₐ=0.70: 17.93%\n"
     ]
    }
   ],
   "source": [
    "print(soft_scs_metrics)\n",
    "print(\"\\n\")\n",
    "print(hard_scs_metrics)"
   ]
  },
  {
   "cell_type": "code",
   "execution_count": 85,
   "id": "a267a844-4516-4927-88cf-c99b1e25f02f",
   "metadata": {},
   "outputs": [
    {
     "name": "stdout",
     "output_type": "stream",
     "text": [
      "Doc Accuracy\n",
      "  avg_jaccard : 8.0639%\n",
      "  avg_recall : 45.5870%\n",
      "  avg_precision : 10.1682%\n",
      "  doc_score : 27.8776%\n"
     ]
    }
   ],
   "source": [
    "# Doc Accuracy\n",
    "#   avg_jaccard : 7.3484%\n",
    "#   avg_recall : 21.9597%\n",
    "#   avg_precision : 13.4827%\n",
    "#   doc_score : 17.7212%\n",
    "print(f\"Doc Accuracy\")\n",
    "for k,v in doc_results.stats.compute_document_metrics(doc_alpha=0.5).items():\n",
    "    print(f\"  {k} : {v*100:0.4f}%\")"
   ]
  },
  {
   "cell_type": "markdown",
   "id": "54b9635b-cfe1-4221-a2d2-33cb529d266e",
   "metadata": {
    "jp-MarkdownHeadingCollapsed": true
   },
   "source": [
    "# Plot Results"
   ]
  },
  {
   "cell_type": "code",
   "execution_count": 10,
   "id": "44ca4993-132a-46c9-b4f8-8917b12941c0",
   "metadata": {},
   "outputs": [],
   "source": [
    "from src.evaluate import DocPlotter \n",
    "\n",
    "plotter=DocPlotter(\n",
    "    match_page_metrics=doc_results.combined_page_metrics\n",
    ")"
   ]
  },
  {
   "cell_type": "code",
   "execution_count": 11,
   "id": "4a3d4052-cf2a-4e8b-9330-0762d01d0a35",
   "metadata": {},
   "outputs": [
    {
     "data": {
      "image/png": "[encoded data removed]",
      "text/plain": [
       "<Figure size 1440x720 with 1 Axes>"
      ]
     },
     "metadata": {
      "needs_background": "light"
     },
     "output_type": "display_data"
    },
    {
     "data": {
      "image/png": "[encoded data removed]",
      "text/plain": [
       "<Figure size 1440x720 with 1 Axes>"
      ]
     },
     "metadata": {
      "needs_background": "light"
     },
     "output_type": "display_data"
    }
   ],
   "source": [
    "fig_match_and_misses=plotter.plot_match_and_misses()\n",
    "fig_all=plotter.plot_all()"
   ]
  },
  {
   "cell_type": "markdown",
   "id": "59686406-f2aa-4c9b-84cd-36b7153b4121",
   "metadata": {
    "jp-MarkdownHeadingCollapsed": true
   },
   "source": [
    "# Visualize Used, Unused, Soft-Used Labels"
   ]
  },
  {
   "cell_type": "code",
   "execution_count": 30,
   "id": "84c32c7b-32a7-420c-bb70-3f50dabae62e",
   "metadata": {},
   "outputs": [
    {
     "name": "stdout",
     "output_type": "stream",
     "text": [
      "provide and install city sidewalk tie-ins\n",
      "provide and install one pedestrian ramp\n",
      "provide and install one cdot parallel curb ramp\n",
      "provide and install all fence metal gates\n",
      "provide and install panic devices to all fence gates\n",
      "provide and install accessible parking r7-8 and r7-8b signs\n",
      "provide and install aggregate base course to a depth of 8.5-inch at asphalt parking lot\n",
      "trenching for stormwater underdrain within building\n",
      "backfill domestic water trench once inspected\n",
      "provide and install two 6-inch sanitary service connections, one for future use\n",
      "city and water district tap fees for sewer and water\n",
      "provide and install one sanitary stub for future tie-in\n",
      "assuming utilities have been coordinated with the other disciplines\n",
      "assume all utility mains are adequately located and sized\n",
      "provide and install additional inlet protection\n",
      "remove one rocksock\n",
      "remove vehicle tracking control, staging, and concrete washout area\n"
     ]
    },
    {
     "data": {
      "text/plain": [
       "17"
      ]
     },
     "execution_count": 30,
     "metadata": {},
     "output_type": "execute_result"
    }
   ],
   "source": [
    "used_labels = [\n",
    "    i.label for i in pipeline_orchestrator.alignment_evaluator.cluster_objs\n",
    "]\n",
    "unused_count=0\n",
    "for label  in pipeline_orchestrator.corpus.norm_labels:\n",
    "    if label not in used_labels:\n",
    "        print(label)\n",
    "        unused_count+=1\n",
    "unused_count"
   ]
  },
  {
   "cell_type": "code",
   "execution_count": 43,
   "id": "06b22add-f929-4d4d-959a-366f890aaa0e",
   "metadata": {
    "scrolled": true
   },
   "outputs": [],
   "source": [
    "# Seperate labels in soft and hard matches\n",
    "from collections import defaultdict\n",
    "\n",
    "results=defaultdict(list)\n",
    "for cluster_objs in pipeline_orchestrator.alignment_evaluator.cluster_objs:\n",
    "    used_label_hard=False\n",
    "    used_label_soft=False\n",
    "    for pred_group in cluster_objs.preds:\n",
    "        if pred_group.dist_score <= pipeline_orchestrator.experiement_config.compare.threshold:\n",
    "            used_label_hard=True\n",
    "            break\n",
    "        else:\n",
    "            used_label_soft=True\n",
    "    \n",
    "    if used_label_hard and not used_label_soft:\n",
    "        results[\"hard\"].append(cluster_objs)\n",
    "    elif used_label_hard and used_label_soft:\n",
    "        results[\"hard\"].append(cluster_objs)\n",
    "    elif not used_label_hard and used_label_soft:\n",
    "        results[\"soft\"].append(cluster_objs)\n",
    "    else:\n",
    "        results[\"soft\"].append(cluster_objs)\n",
    "        "
   ]
  },
  {
   "cell_type": "code",
   "execution_count": 44,
   "id": "ecdf89e6-3f1d-49c3-b190-e6e1912b4401",
   "metadata": {},
   "outputs": [
    {
     "name": "stdout",
     "output_type": "stream",
     "text": [
      "\n",
      "hard\n",
      "  provide and install building concrete patio\n",
      "  trenching for sewer lines\n",
      "  provide and install new sanitary manhole cover on sewer line\n",
      "  provide and install storm manhole and catch basin\n",
      "  provide and install concrete retaining wall around building lot\n",
      "  provide and install asphalt parking lot\n",
      "  tie in existing concrete pan saw cut 2-foot opening in curb to accommodate pan\n",
      "  provide and install benches and tables\n",
      "  provide and install sidewalk chase drain\n",
      "  provide and install one cdot type 2 directional ramp\n",
      "  provide and install 6-foot decorative metal fence\n",
      "  provide and install expansion joint between curb and city sidewalk\n",
      "  provide and install 5-foot cdot inlet type r\n",
      "  provide and install outlet structure to be retrofitted with orifice plate and trash screen\n",
      "  provide and install cdot perpendicular vertical pedestrian directional parallel curb ramps\n",
      "  provide and install parking lot striping\n",
      "  provide and install 3 water service lines for domestic water, fire sprinklers, and fire hydrant\n",
      "  provide and install 6-inch sanitary service line to tie into building\n",
      "  provide and install storm sewer drains\n",
      "  provide and install one cdot directional parallel curb ramp\n",
      "  install all required tees with cleanout\n",
      "  provide and install concrete washout area\n",
      "  provide and install stabilized staging area\n",
      "  provide and install initial silt fence\n",
      "  provide and install inlet protection\n",
      "  provide and install sediment control log\n",
      "  provide and install rock socks\n",
      "  provide and install cedar fence\n",
      "  provide and install fire hydrant\n",
      "  provide and install all required tee with gate valves for water service lines\n",
      "  provide and install curb and gutter at parking lot\n",
      "  provide and install one cdot perpendicular ramp\n",
      "  provide and install one cdot perpendicular curb ramp with vertical return curb\n",
      "  remove existing vegetation\n",
      "  storm inlet to be protected in place\n",
      "  remove existing concrete sidewalk and steps\n",
      "  remove existing sanitary manhole\n",
      "  remove existing concrete curb and gutter in 4 locations\n",
      "  provide and install concrete stairs at pedestrian ramp\n",
      "  provide and install trash enclosure\n",
      "  provide and install playground rubber mats\n",
      "  provide and install stop sign\n",
      "  flow fill existing sanitary line and abandon in place\n",
      "  provide and install fire department connection\n",
      "  provide and install storm sewer drain and required inlets around building\n",
      "  remove sanitary manhole cover and top section of barrel and flowfill with concrete\n",
      "  provide and install 1500 gallon grease interceptor\n",
      "  protect sanitary manholes\n",
      "  install water meter and vault\n",
      "  provide and install permanent seeding with mulching\n",
      "  provide and install concrete v gutter with level spreader\n",
      "  provide and install vehicle tracking control\n",
      "\n",
      "soft\n",
      "  scarify and compact to a depth of 36-inch at asphalt parking lot\n",
      "  demo 4 existing asphalt patches\n",
      "  trenching for pipe tying into 5-foot cdot inlet type r\n",
      "  provide and install symbol of accessibility\n",
      "  provide a retaining wall design that meets approval of city of thornton\n",
      "  provide and install concrete and flatwork at building perimeter\n",
      "  relocate silt fence\n",
      "  coordinate with city to complete 3 water service line tie-ins\n",
      "  provide and install 7 cleanouts along with insulation board\n",
      "  trenching for domestic water\n",
      "  provide and install curb and gutter at 4 asphalt patches\n",
      "  provide and install 6-inch sanitary service line for future use\n",
      "  provide and install city sidewalk to be 5-foot 5-inch wide\n",
      "  ensure 18-inch vertical clearance between all utilities line\n",
      "  provide and install manhole covers to grease interceptor\n",
      "  backfill fire hydrant trench once inspected\n",
      "  backfill fire sprinklers' trench once inspected\n",
      "  provide traffic control for all streetwork\n",
      "  provide and install concrete flatwork for trash enclosure\n",
      "  excavate and prep subgrade and export dirt for asphalt\n",
      "  sod area around removed sanitary manhole\n",
      "  provide and install truncated domes to all vertical ramps\n",
      "  demo and remove existing siting utilities\n"
     ]
    }
   ],
   "source": [
    "for k,v in results.items():\n",
    "    print(f\"\\n{k}\")\n",
    "    for a in v:\n",
    "        print(f\"  {a.label}\")"
   ]
  }
 ],
 "metadata": {
  "kernelspec": {
   "display_name": "Python 3 (ipykernel)",
   "language": "python",
   "name": "python3"
  },
  "language_info": {
   "codemirror_mode": {
    "name": "ipython",
    "version": 3
   },
   "file_extension": ".py",
   "mimetype": "text/x-python",
   "name": "python",
   "nbconvert_exporter": "python",
   "pygments_lexer": "ipython3",
   "version": "3.10.12"
  }
 },
 "nbformat": 4,
 "nbformat_minor": 5
}
